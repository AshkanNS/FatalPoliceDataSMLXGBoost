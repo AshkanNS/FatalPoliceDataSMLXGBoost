{
 "cells": [
  {
   "cell_type": "code",
   "execution_count": 1,
   "metadata": {},
   "outputs": [],
   "source": [
    "import pandas as pd\n",
    "from sklearn.metrics import confusion_matrix, classification_report, accuracy_score\n",
    "import matplotlib.pyplot as plt\n",
    "import xgboost as xgb\n",
    "from xgboost import XGBClassifier\n",
    "from sklearn.model_selection import GridSearchCV\n",
    "df = pd.read_csv(\"fatal-police-shootings-data.csv\")"
   ]
  },
  {
   "cell_type": "markdown",
   "metadata": {},
   "source": [
    "Kollar igenom datan för NaN values"
   ]
  },
  {
   "cell_type": "code",
   "execution_count": 2,
   "metadata": {},
   "outputs": [
    {
     "data": {
      "text/plain": [
       "id                           0\n",
       "name                         0\n",
       "date                         0\n",
       "manner_of_death              0\n",
       "armed                      227\n",
       "age                        235\n",
       "gender                       2\n",
       "race                       521\n",
       "city                         0\n",
       "state                        0\n",
       "signs_of_mental_illness      0\n",
       "threat_level                 0\n",
       "flee                       249\n",
       "body_camera                  0\n",
       "dtype: int64"
      ]
     },
     "execution_count": 2,
     "metadata": {},
     "output_type": "execute_result"
    }
   ],
   "source": [
    "df.isna().sum()"
   ]
  },
  {
   "cell_type": "markdown",
   "metadata": {},
   "source": [
    "Lägger till mapping för vad som är Deadly och inte Deadly"
   ]
  },
  {
   "cell_type": "code",
   "execution_count": 3,
   "metadata": {},
   "outputs": [],
   "source": [
    "\n",
    "weapon_mapping = {\n",
    "    # Deadly weapons (0)\n",
    "    'gun': 0, 'pellet gun': 0, 'BB gun': 0, 'Airsoft pistol': 0,\n",
    "    'guns and explosives': 0, 'gun and knife': 0, 'gun and car': 0,\n",
    "    'grenade': 0, 'incendiary device': 0, 'samurai sword': 0,\n",
    "    'machete': 0, 'sword': 0, 'hatchet': 0, 'knife': 0,\n",
    "    'bayonet': 0, 'crossbow': 0, 'vehicle': 0, 'gun and vehicle': 0,\n",
    "    'machete and gun': 0, 'nail gun': 0, 'shovel': 0, 'hammer': 0,\n",
    "    'metal object': 0, 'screwdriver': 0, 'metal pole': 0, 'Taser': 0,\n",
    "    'metal pipe': 0, 'blunt object': 0, 'sharp object': 0,\n",
    "    'meat cleaver': 0, 'carjack': 0, 'chain': 0, 'brick': 0,\n",
    "    'baseball bat': 0, 'lawn mower blade': 0, 'flagpole': 0,\n",
    "    'scissors': 0, 'crowbar': 0, 'tire iron': 0, 'chainsaw': 0,\n",
    "    'wrench': 0, 'piece of wood': 0, 'pipe': 0, 'glass shard': 0,\n",
    "    'pepper spray': 0, 'oar': 0, 'fireworks': 0, 'ice pick': 0,\n",
    "    'car, knife and mace': 0, 'straight edge razor': 0,\n",
    "\n",
    "    # Not deadly (1)\n",
    "    'unarmed': 1, 'toy weapon': 1, 'bean-bag gun': 1, 'stapler': 1,\n",
    "    'pen': 1, 'claimed to be armed': 1, 'beer bottle': 1,\n",
    "    'walking stick': 1, 'air pistol': 1, 'flashlight': 1,\n",
    "    'unknown weapon': 1, 'undetermined': 1, pd.NA: 1, 'nan': 1,\n",
    "}\n",
    "\n",
    "df['armed'] = df['armed'].map(weapon_mapping).fillna(1)"
   ]
  },
  {
   "cell_type": "markdown",
   "metadata": {},
   "source": [
    "Ändrar om values till nummer"
   ]
  },
  {
   "cell_type": "code",
   "execution_count": 4,
   "metadata": {},
   "outputs": [
    {
     "data": {
      "text/plain": [
       "id                         0\n",
       "name                       0\n",
       "date                       0\n",
       "manner_of_death            0\n",
       "armed                      0\n",
       "age                        0\n",
       "gender                     0\n",
       "race                       0\n",
       "city                       0\n",
       "state                      0\n",
       "signs_of_mental_illness    0\n",
       "threat_level               0\n",
       "flee                       0\n",
       "body_camera                0\n",
       "dtype: int64"
      ]
     },
     "execution_count": 4,
     "metadata": {},
     "output_type": "execute_result"
    }
   ],
   "source": [
    "df[\"age\"] = df[\"age\"].fillna(df[\"age\"].median())\n",
    "df[\"gender\"] = df[\"gender\"].map({\"M\": 0, \"F\": 1}).fillna(0)\n",
    "df[\"body_camera\"] = df[\"body_camera\"].map({True: 1, False: 0}).fillna(0)\n",
    "df[\"signs_of_mental_illness\"] = df[\"signs_of_mental_illness\"].map({True: 1, False: 0}).fillna(0)\n",
    "df[\"threat_level\"] = df[\"threat_level\"].map({\"attack\": 0, \"other\": 1, \"undetermined\": 1}).fillna(1)\n",
    "df[\"race\"] = df[\"race\"].map({\"W\": 0, \"B\": 1, \"A\": 2, \"H\": 3, \"O\": 4, \"N\": 5}).fillna(5)\n",
    "df[\"flee\"] = df[\"flee\"].map({\"Car\": 0, \"Foot\": 0, \"Other\": 1, \"Not fleeing\": 1}).fillna(1)\n",
    "df['armed'] = df['armed'].map(weapon_mapping).fillna(1) \n",
    "df[\"manner_of_death\"] = df[\"manner_of_death\"].map({\"shot\": 0, \"shot and Tasered\": 1}).fillna(0)\n",
    "df.isna().sum()"
   ]
  },
  {
   "cell_type": "code",
   "execution_count": 5,
   "metadata": {},
   "outputs": [
    {
     "data": {
      "text/plain": [
       "body_camera\n",
       "0    4798\n",
       "1     618\n",
       "Name: count, dtype: int64"
      ]
     },
     "execution_count": 5,
     "metadata": {},
     "output_type": "execute_result"
    }
   ],
   "source": [
    "df[\"body_camera\"].value_counts()"
   ]
  },
  {
   "cell_type": "markdown",
   "metadata": {},
   "source": [
    "Tränar modellen genom att se om body camera va på eller inte på under händelsen"
   ]
  },
  {
   "cell_type": "code",
   "execution_count": 6,
   "metadata": {},
   "outputs": [],
   "source": [
    "from sklearn.preprocessing import StandardScaler\n",
    "from sklearn.model_selection import train_test_split\n",
    "\n",
    "X = df[[\"age\", \"gender\", \"body_camera\", \"signs_of_mental_illness\", \"race\", \"armed\", \"flee\", \"manner_of_death\", \"threat_level\"]]\n",
    "y = df[\"body_camera\"]\n",
    "\n",
    "X_train, X_test, y_train, y_test = train_test_split(X, y, test_size=0.2, random_state=42)\n",
    "\n"
   ]
  },
  {
   "cell_type": "markdown",
   "metadata": {},
   "source": [
    "Testar modellens resultat"
   ]
  },
  {
   "cell_type": "code",
   "execution_count": 7,
   "metadata": {},
   "outputs": [
    {
     "name": "stdout",
     "output_type": "stream",
     "text": [
      "Confusion Matrix:\n",
      "[[952   0]\n",
      " [  0 132]]\n",
      "\n",
      "Classification Report:\n",
      "              precision    recall  f1-score   support\n",
      "\n",
      "           0       1.00      1.00      1.00       952\n",
      "           1       1.00      1.00      1.00       132\n",
      "\n",
      "    accuracy                           1.00      1084\n",
      "   macro avg       1.00      1.00      1.00      1084\n",
      "weighted avg       1.00      1.00      1.00      1084\n",
      "\n",
      "\n",
      "Accuracy:\n",
      "1.0\n"
     ]
    }
   ],
   "source": [
    "\n",
    "# Initialize the scaler\n",
    "scaler = StandardScaler()\n",
    "\n",
    "# Fit the scaler on the training data and transform both training and test data\n",
    "X_train_scaled = scaler.fit_transform(X_train)\n",
    "X_test_scaled = scaler.transform(X_test)\n",
    "\n",
    "# Initialize and fit the XGBoost model\n",
    "model = XGBClassifier(eval_metric='mlogloss', scale_pos_weight=1)  # Example weight\n",
    "model.fit(X_train_scaled, y_train)\n",
    "\n",
    "# Make predictions on the scaled test data\n",
    "y_pred = model.predict(X_test_scaled)\n",
    "\n",
    "# Evaluate the model performance\n",
    "print(\"Confusion Matrix:\")\n",
    "print(confusion_matrix(y_test, y_pred))\n",
    "\n",
    "print(\"\\nClassification Report:\")\n",
    "print(classification_report(y_test, y_pred))\n",
    "\n",
    "print(\"\\nAccuracy:\")\n",
    "print(accuracy_score(y_test, y_pred))"
   ]
  },
  {
   "cell_type": "markdown",
   "metadata": {},
   "source": [
    "Kör en gridsearch för kolla om det var overfitting"
   ]
  },
  {
   "cell_type": "code",
   "execution_count": 8,
   "metadata": {},
   "outputs": [
    {
     "name": "stdout",
     "output_type": "stream",
     "text": [
      "Best Parameters: {'xgb__colsample_bytree': 0.7, 'xgb__gamma': 0, 'xgb__learning_rate': 0.01, 'xgb__max_depth': 3, 'xgb__min_child_weight': 1, 'xgb__n_estimators': 200, 'xgb__scale_pos_weight': 7.763754045307444, 'xgb__subsample': 0.7}\n",
      "Best F1 Score: 1.0\n",
      "[[952   0]\n",
      " [  0 132]]\n",
      "              precision    recall  f1-score   support\n",
      "\n",
      "           0       1.00      1.00      1.00       952\n",
      "           1       1.00      1.00      1.00       132\n",
      "\n",
      "    accuracy                           1.00      1084\n",
      "   macro avg       1.00      1.00      1.00      1084\n",
      "weighted avg       1.00      1.00      1.00      1084\n",
      "\n",
      "Accuracy: 1.0\n"
     ]
    }
   ],
   "source": [
    "from imblearn.combine import SMOTEENN\n",
    "from sklearn.model_selection import GridSearchCV\n",
    "from imblearn.pipeline import Pipeline\n",
    "\n",
    "\n",
    "imbalance_ratio = len(df[df['body_camera'] == 0]) / len(df[df['body_camera'] == 1])\n",
    "\n",
    "pipeline = Pipeline(steps=[\n",
    "    ('scaler', StandardScaler()), \n",
    "    ('smote', SMOTEENN()), \n",
    "    ('xgb', XGBClassifier(eval_metric='mlogloss'))\n",
    "])\n",
    "\n",
    "# Define your parameter grid\n",
    "param_grid = {\n",
    "    'xgb__learning_rate': [0.01, 0.1],\n",
    "    'xgb__max_depth': [3, 5],\n",
    "    'xgb__n_estimators': [200, 300],\n",
    "    'xgb__min_child_weight': [1, 5],\n",
    "    'xgb__gamma': [0, 0.1],\n",
    "    'xgb__subsample': [0.7, 0.8],\n",
    "    'xgb__colsample_bytree': [0.7, 0.8],\n",
    "    'xgb__scale_pos_weight': [imbalance_ratio] \n",
    "}\n",
    "\n",
    "\n",
    "grid_search = GridSearchCV(pipeline, param_grid, scoring='balanced_accuracy', cv=5, n_jobs=-1)\n",
    "\n",
    "\n",
    "grid_search.fit(X_train, y_train)\n",
    "\n",
    "\n",
    "print(\"Best Parameters:\", grid_search.best_params_)\n",
    "print(\"Best F1 Score:\", grid_search.best_score_)\n",
    "\n",
    "\n",
    "y_pred = grid_search.predict(X_test)\n",
    "print(confusion_matrix(y_test, y_pred))\n",
    "print(classification_report(y_test, y_pred))\n",
    "print(\"Accuracy:\", accuracy_score(y_test, y_pred))\n"
   ]
  },
  {
   "cell_type": "markdown",
   "metadata": {},
   "source": [
    "Här ser vi vilka features som var det viktigaste i modellens resultat\n",
    "Under modellens beslutsfattande process användes f4 ofta, vilket tyder på att den har en stark påverkan på förutsägelserna\n",
    "Funktioner f2 och f0: Dessa funktioner var också mycket viktiga, med poäng på 140 respektive 123. De användes ofta och hade därför ett betydande inflytande på modellens resultat.\n",
    "Mindre viktiga funktioner: Funktioner som f7, f1 och f8 användes mycket mindre ofta, vilket tyder på att de hade en mindre påverkan på modellens förutsägelser."
   ]
  },
  {
   "cell_type": "code",
   "execution_count": 9,
   "metadata": {},
   "outputs": [
    {
     "data": {
      "image/png": "[encoded data removed]",
      "text/plain": [
       "<Figure size 640x480 with 1 Axes>"
      ]
     },
     "metadata": {},
     "output_type": "display_data"
    }
   ],
   "source": [
    "\n",
    "xgb_model = grid_search.best_estimator_.named_steps['xgb']\n",
    "xgb.plot_importance(xgb_model)\n",
    "plt.show()\n"
   ]
  },
  {
   "cell_type": "markdown",
   "metadata": {},
   "source": [
    "Ändrar X till feature 0, 2 och 4 sen kör modellen samt visar resultaten igen och det ser ut som att den har 100% ifrån det vi ville uppnå"
   ]
  },
  {
   "cell_type": "code",
   "execution_count": 10,
   "metadata": {},
   "outputs": [
    {
     "name": "stdout",
     "output_type": "stream",
     "text": [
      "[[952   0]\n",
      " [  0 132]]\n",
      "              precision    recall  f1-score   support\n",
      "\n",
      "           0       1.00      1.00      1.00       952\n",
      "           1       1.00      1.00      1.00       132\n",
      "\n",
      "    accuracy                           1.00      1084\n",
      "   macro avg       1.00      1.00      1.00      1084\n",
      "weighted avg       1.00      1.00      1.00      1084\n",
      "\n",
      "Accuracy: 1.0\n"
     ]
    }
   ],
   "source": [
    "\n",
    "X = df[[\"age\", \"body_camera\", \"race\"]]  # f0, f2, f4\n",
    "y = df[\"body_camera\"]\n",
    "\n",
    "from sklearn.preprocessing import StandardScaler\n",
    "from xgboost import XGBClassifier\n",
    "\n",
    "scaler = StandardScaler()\n",
    "X_train_scaled = scaler.fit_transform(X_train)\n",
    "X_test_scaled = scaler.transform(X_test)\n",
    "\n",
    "model = XGBClassifier(eval_metric='mlogloss')\n",
    "model.fit(X_train_scaled, y_train)\n",
    "\n",
    "y_pred = model.predict(X_test_scaled)\n",
    "\n",
    "\n",
    "print(confusion_matrix(y_test, y_pred))\n",
    "print(classification_report(y_test, y_pred))\n",
    "print(\"Accuracy:\", accuracy_score(y_test, y_pred))\n"
   ]
  }
 ],
 "metadata": {
  "kernelspec": {
   "display_name": "venv",
   "language": "python",
   "name": "python3"
  },
  "language_info": {
   "codemirror_mode": {
    "name": "ipython",
    "version": 3
   },
   "file_extension": ".py",
   "mimetype": "text/x-python",
   "name": "python",
   "nbconvert_exporter": "python",
   "pygments_lexer": "ipython3",
   "version": "3.11.9"
  }
 },
 "nbformat": 4,
 "nbformat_minor": 2
}
